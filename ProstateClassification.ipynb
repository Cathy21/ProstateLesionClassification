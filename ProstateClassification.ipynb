{
  "nbformat": 4,
  "nbformat_minor": 0,
  "metadata": {
    "colab": {
      "name": "ProstateClassification.ipynb",
      "provenance": [],
      "collapsed_sections": []
    },
    "kernelspec": {
      "name": "python3",
      "display_name": "Python 3"
    },
    "language_info": {
      "name": "python"
    }
  },
  "cells": [
    {
      "cell_type": "code",
      "metadata": {
        "colab": {
          "base_uri": "https://localhost:8080/"
        },
        "id": "Q5KuxmzmAFaf",
        "outputId": "da3a6339-e3ef-4174-a783-f406b4194e4c"
      },
      "source": [
        "!pip install SimpleITK\n",
        "!pip install pyradiomics"
      ],
      "execution_count": 1,
      "outputs": [
        {
          "output_type": "stream",
          "text": [
            "Collecting SimpleITK\n",
            "\u001b[?25l  Downloading https://files.pythonhosted.org/packages/9c/6b/85df5eb3a8059b23a53a9f224476e75473f9bcc0a8583ed1a9c34619f372/SimpleITK-2.0.2-cp37-cp37m-manylinux2010_x86_64.whl (47.4MB)\n",
            "\u001b[K     |████████████████████████████████| 47.4MB 91kB/s \n",
            "\u001b[?25hInstalling collected packages: SimpleITK\n",
            "Successfully installed SimpleITK-2.0.2\n",
            "Collecting pyradiomics\n",
            "\u001b[?25l  Downloading https://files.pythonhosted.org/packages/8c/03/694a45860268a3b96c9a8b88f7064d959d383332c7d7adb4a72a49035ac2/pyradiomics-3.0.1-cp37-cp37m-manylinux1_x86_64.whl (188kB)\n",
            "\u001b[K     |████████████████████████████████| 194kB 17.0MB/s \n",
            "\u001b[?25hRequirement already satisfied: numpy>=1.9.2 in /usr/local/lib/python3.7/dist-packages (from pyradiomics) (1.19.5)\n",
            "Requirement already satisfied: SimpleITK>=0.9.1 in /usr/local/lib/python3.7/dist-packages (from pyradiomics) (2.0.2)\n",
            "Requirement already satisfied: PyWavelets>=0.4.0 in /usr/local/lib/python3.7/dist-packages (from pyradiomics) (1.1.1)\n",
            "Requirement already satisfied: six>=1.10.0 in /usr/local/lib/python3.7/dist-packages (from pyradiomics) (1.15.0)\n",
            "Collecting pykwalify>=1.6.0\n",
            "  Downloading https://files.pythonhosted.org/packages/1f/fd/ac2161cce19fd67a18c269073f8e86292b5511acec6f8ef6eab88615d032/pykwalify-1.8.0-py2.py3-none-any.whl\n",
            "Requirement already satisfied: docopt>=0.6.2 in /usr/local/lib/python3.7/dist-packages (from pykwalify>=1.6.0->pyradiomics) (0.6.2)\n",
            "Requirement already satisfied: python-dateutil>=2.8.0 in /usr/local/lib/python3.7/dist-packages (from pykwalify>=1.6.0->pyradiomics) (2.8.1)\n",
            "Collecting ruamel.yaml>=0.16.0\n",
            "\u001b[?25l  Downloading https://files.pythonhosted.org/packages/29/4e/c3105bbbbc662f6a671a505f00ec771e93b5254f09fbb06002af9087071a/ruamel.yaml-0.17.4-py3-none-any.whl (101kB)\n",
            "\u001b[K     |████████████████████████████████| 102kB 10.7MB/s \n",
            "\u001b[?25hCollecting ruamel.yaml.clib>=0.1.2; platform_python_implementation == \"CPython\" and python_version < \"3.10\"\n",
            "\u001b[?25l  Downloading https://files.pythonhosted.org/packages/5e/6e/f652c56bbb2c3d3fca252ffc7c0358597f57a1bbdf484dac683054950c63/ruamel.yaml.clib-0.2.2-cp37-cp37m-manylinux1_x86_64.whl (547kB)\n",
            "\u001b[K     |████████████████████████████████| 552kB 43.0MB/s \n",
            "\u001b[?25hInstalling collected packages: ruamel.yaml.clib, ruamel.yaml, pykwalify, pyradiomics\n",
            "Successfully installed pykwalify-1.8.0 pyradiomics-3.0.1 ruamel.yaml-0.17.4 ruamel.yaml.clib-0.2.2\n"
          ],
          "name": "stdout"
        }
      ]
    },
    {
      "cell_type": "code",
      "metadata": {
        "id": "sCXlwbO_3msA"
      },
      "source": [
        "import os\n",
        "import numpy as np\n",
        "import nibabel as nib\n",
        "import matplotlib.pyplot as plt\n",
        "import time\n",
        "import SimpleITK as sitk\n",
        "from matplotlib.pyplot import cm\n",
        "from skimage import measure\n",
        "from skimage.measure import regionprops\n",
        "from radiomics import featureextractor\n",
        "import six\n",
        "import csv"
      ],
      "execution_count": 2,
      "outputs": []
    },
    {
      "cell_type": "code",
      "metadata": {
        "colab": {
          "base_uri": "https://localhost:8080/"
        },
        "id": "2ZbIt03o196S",
        "outputId": "c810e7f8-1606-4b8b-db27-9cc7aed35c7c"
      },
      "source": [
        "from google.colab import drive\n",
        "drive.mount('/content/drive')\n",
        "os.chdir('/content/drive/MyDrive/Uni/Sem 8 - Spring 21/EBME 461 - Biomedical Image Processing and Analysis/Project')"
      ],
      "execution_count": 3,
      "outputs": [
        {
          "output_type": "stream",
          "text": [
            "Drive already mounted at /content/drive; to attempt to forcibly remount, call drive.mount(\"/content/drive\", force_remount=True).\n"
          ],
          "name": "stdout"
        }
      ]
    },
    {
      "cell_type": "markdown",
      "metadata": {
        "id": "aR9XD0tPBsvo"
      },
      "source": [
        "# Code"
      ]
    },
    {
      "cell_type": "code",
      "metadata": {
        "id": "rIn9RlSt3ylR"
      },
      "source": [
        "img = sitk.ReadImage(f'./ProstateX/ProstateX-0000/T2W.nii.gz')"
      ],
      "execution_count": 4,
      "outputs": []
    },
    {
      "cell_type": "code",
      "metadata": {
        "id": "iydB0ux7ByEM"
      },
      "source": [
        "# Reading the prostate mask and lesion annotation\n",
        "pm = sitk.ReadImage(\"./ProstateX/ProstateX-0000/PM.nii.gz\")\n",
        "ls = sitk.ReadImage(\"./ProstateX/ProstateX-0000/LS1.nii.gz\")"
      ],
      "execution_count": 5,
      "outputs": []
    },
    {
      "cell_type": "code",
      "metadata": {
        "id": "9qAoeInOCKCT"
      },
      "source": [
        "# pyradiomics feature extractor requires some initial parameters to be set\n",
        "\n",
        "params = {}\n",
        "params['normalize'] = True\n",
        "params['binWidth'] = 256\n",
        "params['verbose'] = True\n",
        "\n",
        "# Instantiate the extractor\n",
        "extractor = featureextractor.RadiomicsFeatureExtractor(**params) \n",
        "\n",
        "# First disablign all features and enabling only glcm features\n",
        "# extractor.disableAllFeatures()\n",
        "# extractor.enableFeatureClassByName('glcm')\n",
        "\n",
        "featureVector = extractor.execute(img, pm)\n",
        "# print(list(featureVector.keys()))\n",
        "# for featureName in featureVector.keys():\n",
        "#   print(f\"Computed {featureName}: {featureVector[featureName]}\")"
      ],
      "execution_count": null,
      "outputs": []
    },
    {
      "cell_type": "code",
      "metadata": {
        "id": "zT_CYDPtEbxA"
      },
      "source": [
        "rootdir = '/content/drive/MyDrive/Uni/Sem 8 - Spring 21/EBME 461 - Biomedical Image Processing and Analysis/Project/ProstateX'\n",
        "img_dict = {}\n",
        "ls_dict = {}\n",
        "fieldnames = ['patient_id', 'ls/pm']\n",
        "fieldnames.extend(list(featureVector.keys()))\n",
        "print(fieldnames)\n",
        "with open('features.csv', mode='w') as features:\n",
        "    writer = csv.DictWriter(features, fieldnames = fieldnames)\n",
        "    writer.writeheader()\n",
        "    for subdir, dirs, files in os.walk(rootdir):\n",
        "        subpath = subdir.split('/')\n",
        "        if subpath[-1] not in 'ProstateX':\n",
        "            patient_name = subpath[-1]\n",
        "            img_dict[patient_name] = {}\n",
        "            img = sitk.ReadImage(subdir + '/T2W.nii.gz')\n",
        "            ls = sitk.ReadImage(subdir + '/LS1.nii.gz')\n",
        "            pm = sitk.ReadImage(subdir+'/PM.nii.gz')\n",
        "            adc = sitk.ReadImage(subdir+'/ADC.nii.gz')\n",
        "            featVecLs = extractor.execute(img, ls)\n",
        "            featVecPm = extractor.execute(img, pm)\n",
        "            img_dict[patient_name]['image'] = img\n",
        "            img_dict[patient_name]['lesion'] = ls\n",
        "            img_dict[patient_name]['mask'] = pm\n",
        "            img_dict[patient_name]['diff'] = adc\n",
        "            featVecLs['patient_id'] = patient_name\n",
        "            featVecLs['ls/pm'] = 'ls'\n",
        "            featVecPm['patient_id'] = patient_name\n",
        "            featVecPm['ls/pm'] = 'pm'\n",
        "            writer.writerow(featVecLs)\n",
        "            writer.writerow(featVecPm)"
      ],
      "execution_count": null,
      "outputs": []
    }
  ]
}